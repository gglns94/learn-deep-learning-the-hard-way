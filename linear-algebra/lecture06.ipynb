{
 "cells": [
  {
   "cell_type": "markdown",
   "metadata": {},
   "source": [
    "# Linear Algebra Lecture 6\n",
    "\n",
    "- Vector spaces and Subspaces\n",
    "- Column space of $A$ : Solving $Ax=b$\n",
    "- Nullspace of $A$"
   ]
  },
  {
   "cell_type": "markdown",
   "metadata": {},
   "source": [
    "### Vector Space\n",
    "\n",
    "There are two spaces we are interested in : column space / nullspace of the matrix\n",
    "\n",
    "What is vector space? \n",
    "- $v+w$ and $cv$ are in the space.\n",
    "- (which means) all comb.s $cv+dw$ are in the space."
   ]
  },
  {
   "cell_type": "markdown",
   "metadata": {},
   "source": [
    "### Subspace\n",
    "\n",
    "For example : In $R^3$, **a line or plane that contains the origin** is a subspace.\n",
    "\n",
    "Suppose 2 subspaces : $P$ and $L$\n",
    "\n",
    "\n",
    "$P\\cup L$ = all vectors in P or L or both.\n",
    "\n",
    "- This [is / is not] a subspace of both.\n",
    "- The answer is **NO**\n",
    "\n",
    "$P\\cap L$ = all vectors in both P and L.\n",
    "\n",
    "- This [is / is not] a subspace of both.\n",
    "- It is obviously."
   ]
  },
  {
   "cell_type": "markdown",
   "metadata": {},
   "source": [
    "#### Generalization\n",
    "\n",
    "Subspaces S and T\n",
    "\n",
    "Intersection $S\\cap T$ **IS** a subspace.\n",
    "\n",
    "*Why?*\n",
    "\n",
    "Suppose vector $v$ and $w$\n",
    "- If both are in $S$ -> result in $S$\n",
    "- If both are in $T$ -> result in $T$"
   ]
  },
  {
   "cell_type": "markdown",
   "metadata": {},
   "source": [
    "### Column Space\n",
    "\n",
    "Column space of A is subspace of $R^4$<br>\n",
    "= all linear combs. of columns.\n",
    "\n",
    "$$Ax=\\begin{bmatrix}1 & 1 & 2 \\\\ 2 & 1 & 3 \\\\ 3 & 1 & 4 \\\\ 4 & 1 & 5\\end{bmatrix}\\begin{bmatrix}x_1 \\\\ x_2 \\\\ x_3\\end{bmatrix}=\\begin{bmatrix} b_1 \\\\ b_2 \\\\ b_3 \\\\ b_4 \\end{bmatrix}$$\n",
    "\n",
    "Column space : $C(A)$\n",
    "\n",
    "Can we fill up the whole space? **NO**<br>\n",
    "Does $Ax=b$ have a solution for every $b$? **NO**<br>\n",
    "Combs. of those vectors are going to be line planes inside $R^4$\n",
    "You can't usually solve four equations with 3 unknowns.\n",
    "\n",
    "\n",
    "However, sometimes we can.<br>\n",
    "Which vector b's allow this system to be solved?<br>\n",
    "- All zeros<br>\n",
    "- When $b=\\begin{bmatrix}1 \\\\ 2 \\\\  3 \\\\ 4\\end{bmatrix}$,  $x=\\begin{bmatrix}1 \\\\ 0 \\\\ 0 \\end{bmatrix}$\n",
    "- ...\n",
    "\n",
    "I can solve $Ax=b$ exactly when b is in the $C(A)$\n",
    "\n",
    "*Why?*\n",
    "\n",
    "Column space by definition contains all combs. of vectors of A."
   ]
  },
  {
   "cell_type": "markdown",
   "metadata": {},
   "source": [
    "### Nullspace"
   ]
  },
  {
   "cell_type": "markdown",
   "metadata": {},
   "source": [
    "all solutions $x=\\begin{bmatrix}x_1 \\\\ x_2 \\\\ x_3\\end{bmatrix}$ to $Ax=0$"
   ]
  },
  {
   "cell_type": "markdown",
   "metadata": {},
   "source": [
    "#### Example"
   ]
  },
  {
   "cell_type": "markdown",
   "metadata": {},
   "source": [
    "$$Ax=\\begin{bmatrix}1 & 1 & 2 \\\\ 2 & 1 & 3 \\\\ 3 & 1 & 4 \\\\ 4 & 1 & 5\\end{bmatrix}\\begin{bmatrix}x_1 \\\\ x_2 \\\\ x_3\\end{bmatrix}=\\begin{bmatrix} 0 \\\\ 0 \\\\ 0 \\\\ 0 \\end{bmatrix}$$\n",
    "\n",
    "Contains : \n",
    "$\\begin{bmatrix} 0 \\\\ 0 \\\\ 0 \\end{bmatrix}$,\n",
    "$\\begin{bmatrix} 1 \\\\ 1 \\\\ -1 \\end{bmatrix}$,\n",
    "$\\begin{bmatrix} c \\\\ c \\\\ -c \\end{bmatrix}$,\n",
    "...\n",
    "\n",
    "The nullspace is a line in $R^3$."
   ]
  },
  {
   "cell_type": "markdown",
   "metadata": {},
   "source": [
    "#### Check that the solutions to $Ax=0$ always give a subspace.\n",
    "\n",
    "If $Av=0$ and $Aw=0$, then $A(v+w)=0$ and $A(cv) = 0$."
   ]
  }
 ],
 "metadata": {
  "kernelspec": {
   "display_name": "Python 3",
   "language": "python",
   "name": "python3"
  },
  "language_info": {
   "codemirror_mode": {
    "name": "ipython",
    "version": 3
   },
   "file_extension": ".py",
   "mimetype": "text/x-python",
   "name": "python",
   "nbconvert_exporter": "python",
   "pygments_lexer": "ipython3",
   "version": "3.6.6"
  }
 },
 "nbformat": 4,
 "nbformat_minor": 2
}
